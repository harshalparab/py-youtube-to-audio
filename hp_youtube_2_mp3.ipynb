{
 "cells": [
  {
   "cell_type": "code",
   "execution_count": 1,
   "id": "587607ad",
   "metadata": {},
   "outputs": [],
   "source": [
    "from pytube import YouTube\n",
    "from pytube import Playlist\n",
    "import os"
   ]
  },
  {
   "cell_type": "code",
   "execution_count": 2,
   "id": "7f6604d0",
   "metadata": {},
   "outputs": [],
   "source": [
    "playlist = Playlist(\"https://www.youtube.com/playlist?list=PLZ2j0Egp2EQQnKN5EHBmCNkr6aUaRE8a9\")"
   ]
  },
  {
   "cell_type": "code",
   "execution_count": 3,
   "id": "a9b4effc",
   "metadata": {},
   "outputs": [],
   "source": [
    "for url in playlist:\n",
    "    out_file = YouTube(url).streams.filter(only_audio=True).first().download(os.getcwd()+'\\\\data')\n",
    "    base, ext = os.path.splitext(out_file)\n",
    "    new_file = base + '.mp3'\n",
    "    os.rename(out_file, new_file)"
   ]
  }
 ],
 "metadata": {
  "kernelspec": {
   "display_name": "Python 3 (ipykernel)",
   "language": "python",
   "name": "python3"
  },
  "language_info": {
   "codemirror_mode": {
    "name": "ipython",
    "version": 3
   },
   "file_extension": ".py",
   "mimetype": "text/x-python",
   "name": "python",
   "nbconvert_exporter": "python",
   "pygments_lexer": "ipython3",
   "version": "3.9.13"
  }
 },
 "nbformat": 4,
 "nbformat_minor": 5
}
