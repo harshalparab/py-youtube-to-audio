{
 "cells": [
  {
   "cell_type": "code",
   "execution_count": 2,
   "id": "587607ad",
   "metadata": {},
   "outputs": [],
   "source": [
    "from pytube import YouTube\n",
    "from pytube import Playlist"
   ]
  },
  {
   "cell_type": "code",
   "execution_count": 3,
   "id": "7f6604d0",
   "metadata": {},
   "outputs": [],
   "source": [
    "playlist = Playlist(\"https://www.youtube.com/playlist?list=PLZ2j0Egp2EQQnKN5EHBmCNkr6aUaRE8a9\")"
   ]
  },
  {
   "cell_type": "code",
   "execution_count": 8,
   "id": "a9b4effc",
   "metadata": {},
   "outputs": [],
   "source": [
    "for url in playlist:\n",
    "    YouTube(url).streams.filter(only_audio=True).first().download('C:\\\\Users\\\\harsh\\\\Documents\\\\code\\\\python\\\\harshal_code\\\\music')"
   ]
  },
  {
   "cell_type": "code",
   "execution_count": null,
   "id": "801ef003",
   "metadata": {},
   "outputs": [],
   "source": []
  }
 ],
 "metadata": {
  "kernelspec": {
   "display_name": "Python 3 (ipykernel)",
   "language": "python",
   "name": "python3"
  },
  "language_info": {
   "codemirror_mode": {
    "name": "ipython",
    "version": 3
   },
   "file_extension": ".py",
   "mimetype": "text/x-python",
   "name": "python",
   "nbconvert_exporter": "python",
   "pygments_lexer": "ipython3",
   "version": "3.9.13"
  }
 },
 "nbformat": 4,
 "nbformat_minor": 5
}
